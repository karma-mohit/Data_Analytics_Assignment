{
 "cells": [
  {
   "cell_type": "code",
   "execution_count": 2,
   "id": "d89ac32b",
   "metadata": {},
   "outputs": [
    {
     "name": "stdout",
     "output_type": "stream",
     "text": [
      "Enter a number 1-12 : 8\n",
      "8  is aug\n"
     ]
    }
   ],
   "source": [
    "#print 1 to 12 and also months list there\n",
    "\n",
    "month= int(input(\"Enter a number 1-12 : \"))\n",
    "\n",
    "if (month==1):\n",
    "    print(month,\" is jan\")\n",
    "elif (month==2):\n",
    "    print(month,\" is feb\")\n",
    "elif (month==3):\n",
    "    print(month,\" is mar\")\n",
    "elif (month==4):\n",
    "    print(month,\" is apr\")\n",
    "elif (month==5):\n",
    "    print(month,\" is may\")\n",
    "elif (month==6):\n",
    "    print(month,\" is june\")\n",
    "elif (month==7):\n",
    "    print(month,\" is july\")\n",
    "elif (month==8):\n",
    "    print(month,\" is aug\")\n",
    "elif (month==9):\n",
    "    print(month,\" is sep\")\n",
    "elif (month==10):\n",
    "    print(month,\" is oct\")\n",
    "elif (month==11):\n",
    "    print(month,\" is nov\")\n",
    "else:\n",
    "    print(month,\" is dec\")\n"
   ]
  },
  {
   "cell_type": "code",
   "execution_count": 7,
   "id": "87e39ec4",
   "metadata": {},
   "outputs": [
    {
     "name": "stdout",
     "output_type": "stream",
     "text": [
      "enter first numbe1\n",
      "enter second number5\n",
      "6\n",
      "-4\n",
      "5\n",
      "0.2\n"
     ]
    }
   ],
   "source": [
    "# to enter number between 1 to 4 and do arithmatic operation\n",
    "a = int(input(\"enter first numbe\"))\n",
    "b = int(input(\"enter second number\"))\n",
    "if a & b in range(1,5):\n",
    "    print(a + b)\n",
    "    print(a - b)\n",
    "    print(a * b)\n",
    "    print(a / b)\n",
    "else:\n",
    "    print(\"nuber is not in range 1 to 4\")"
   ]
  },
  {
   "cell_type": "code",
   "execution_count": 8,
   "id": "3b1adf35",
   "metadata": {},
   "outputs": [
    {
     "name": "stdout",
     "output_type": "stream",
     "text": [
      "Enter temperature in celsius: 10\n",
      "10.0 degree Celsius is equal to 50.0 degree Fahrenheit.\n"
     ]
    }
   ],
   "source": [
    "# calculate celcius to ferrenheight\n",
    "celsius = float(input(\"Enter temperature in celsius: \"))\n",
    "fahrenheit = (celsius * 1.8) + 32\n",
    "print(str(celsius )+ \" degree Celsius is equal to \" + str(fahrenheit )+ \" degree Fahrenheit.\")\n"
   ]
  },
  {
   "cell_type": "code",
   "execution_count": null,
   "id": "d52168be",
   "metadata": {},
   "outputs": [],
   "source": []
  }
 ],
 "metadata": {
  "kernelspec": {
   "display_name": "Python 3 (ipykernel)",
   "language": "python",
   "name": "python3"
  },
  "language_info": {
   "codemirror_mode": {
    "name": "ipython",
    "version": 3
   },
   "file_extension": ".py",
   "mimetype": "text/x-python",
   "name": "python",
   "nbconvert_exporter": "python",
   "pygments_lexer": "ipython3",
   "version": "3.9.13"
  }
 },
 "nbformat": 4,
 "nbformat_minor": 5
}
