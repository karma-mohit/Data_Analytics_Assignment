{
 "cells": [
  {
   "cell_type": "code",
   "execution_count": 6,
   "id": "c8eab09b",
   "metadata": {},
   "outputs": [
    {
     "name": "stdout",
     "output_type": "stream",
     "text": [
      "1 hello python\n",
      "2 hello python\n",
      "3 hello python\n",
      "4 hello python\n",
      "5 hello python\n",
      "6 hello python\n",
      "7 hello python\n",
      "8 hello python\n",
      "9 hello python\n",
      "10 hello python\n"
     ]
    }
   ],
   "source": [
    "# Programme to print 'hello python' 10 times..\n",
    "for i in range(1,11):\n",
    "    print(i,\"hello python\")"
   ]
  },
  {
   "cell_type": "code",
   "execution_count": 4,
   "id": "41bcf806",
   "metadata": {},
   "outputs": [
    {
     "name": "stdout",
     "output_type": "stream",
     "text": [
      "1\n",
      "2\n",
      "3\n",
      "4\n",
      "5\n",
      "6\n",
      "7\n",
      "8\n",
      "9\n",
      "10\n"
     ]
    }
   ],
   "source": [
    "# programme to print 1 to 10\n",
    "for i in range(1,11):\n",
    "    print(i)"
   ]
  },
  {
   "cell_type": "code",
   "execution_count": 12,
   "id": "7a0a7e86",
   "metadata": {},
   "outputs": [
    {
     "name": "stdout",
     "output_type": "stream",
     "text": [
      "The sum is 55\n"
     ]
    }
   ],
   "source": [
    "# programme to print sum of 1st 10 number\n",
    "num  = 10\n",
    "  \n",
    "if num < 0:  \n",
    "   print(\"Enter a positive number\")  \n",
    "else:  \n",
    "   sum = 0  \n",
    "   # use while loop to iterate un till zero  \n",
    "   while(num > 0):  \n",
    "       sum += num  \n",
    "       num -= 1  \n",
    "   print(\"The sum is\",sum)  "
   ]
  },
  {
   "cell_type": "code",
   "execution_count": 11,
   "id": "9c62ae2e",
   "metadata": {},
   "outputs": [
    {
     "name": "stdout",
     "output_type": "stream",
     "text": [
      "enter a number10\n",
      "0\n",
      "1\n",
      "2\n",
      "3\n",
      "4\n",
      "5\n",
      "6\n",
      "7\n",
      "8\n",
      "9\n"
     ]
    }
   ],
   "source": [
    "# programme to print n numbers entered by the use\n",
    "n = int(input(\"enter a number\"))\n",
    "for i in range(n):\n",
    "    print(i)"
   ]
  },
  {
   "cell_type": "code",
   "execution_count": 13,
   "id": "da7aa5e5",
   "metadata": {},
   "outputs": [
    {
     "name": "stdout",
     "output_type": "stream",
     "text": [
      "Enter a number: 11\n",
      "The sum is 66\n"
     ]
    }
   ],
   "source": [
    "# programme to print sum of n numbers\n",
    "\n",
    "num = int(input(\"Enter a number: \"))\n",
    "if num < 0:  \n",
    "   print(\"Enter a positive number\")  \n",
    "else:  \n",
    "   sum = 0  \n",
    "   # use while loop to iterate un till zero  \n",
    "   while(num > 0):  \n",
    "       sum += num  \n",
    "       num -= 1  \n",
    "   print(\"The sum is\",sum) \n"
   ]
  },
  {
   "cell_type": "code",
   "execution_count": 17,
   "id": "d428b809",
   "metadata": {},
   "outputs": [
    {
     "name": "stdout",
     "output_type": "stream",
     "text": [
      "Enter the number to print the tables for:2\n",
      "2 x 1 = 2\n",
      "2 x 2 = 4\n",
      "2 x 3 = 6\n",
      "2 x 4 = 8\n",
      "2 x 5 = 10\n",
      "2 x 6 = 12\n",
      "2 x 7 = 14\n",
      "2 x 8 = 16\n",
      "2 x 9 = 18\n",
      "2 x 10 = 20\n"
     ]
    }
   ],
   "source": [
    "# programme to print table of a number\n",
    "n=int(input(\"Enter the number to print the tables for:\"))\n",
    "for i in range(1,11):\n",
    "    print(n,\"x\",i,\"=\",n*i)"
   ]
  },
  {
   "cell_type": "code",
   "execution_count": 18,
   "id": "c9579773",
   "metadata": {},
   "outputs": [
    {
     "name": "stdout",
     "output_type": "stream",
     "text": [
      "The factorial of 7 is 5040\n"
     ]
    }
   ],
   "source": [
    "# programme to calculate factorial of a number\n",
    "num = 7\n",
    "\n",
    "factorial = 1\n",
    "\n",
    "# check if the number is negative, positive or zero\n",
    "if num < 0:\n",
    "   print(\"Sorry, factorial does not exist for negative numbers\")\n",
    "elif num == 0:\n",
    "   print(\"The factorial of 0 is 1\")\n",
    "else:\n",
    "   for i in range(1,num + 1):\n",
    "       factorial = factorial*i\n",
    "   print(\"The factorial of\"u,num,\"is\",factorial)\n"
   ]
  },
  {
   "cell_type": "code",
   "execution_count": null,
   "id": "5126965f",
   "metadata": {},
   "outputs": [],
   "source": [
    "# programme to print even number bw 1 to 100\n",
    "start, end = 1, 100\n",
    "  \n",
    "# iterating each number in list\n",
    "for num in range(start, end + 1):\n",
    "      \n",
    "    # checking condition\n",
    "    if num % 2 == 0:\n",
    "        print(num, end = \" \")"
   ]
  },
  {
   "cell_type": "code",
   "execution_count": null,
   "id": "2f467f52",
   "metadata": {},
   "outputs": [],
   "source": [
    "# programme to print even number bw 1 to 100\n",
    "start, end = 1, 100\n",
    "  \n",
    "# iterating each number in list\n",
    "for num in range(start, end + 1):\n",
    "      \n",
    "    # checking condition\n",
    "    if num % 2 != 0:\n",
    "        print(num, end = \" \")"
   ]
  },
  {
   "cell_type": "code",
   "execution_count": null,
   "id": "fec925ba",
   "metadata": {},
   "outputs": [],
   "source": []
  }
 ],
 "metadata": {
  "kernelspec": {
   "display_name": "Python 3 (ipykernel)",
   "language": "python",
   "name": "python3"
  },
  "language_info": {
   "codemirror_mode": {
    "name": "ipython",
    "version": 3
   },
   "file_extension": ".py",
   "mimetype": "text/x-python",
   "name": "python",
   "nbconvert_exporter": "python",
   "pygments_lexer": "ipython3",
   "version": "3.9.13"
  }
 },
 "nbformat": 4,
 "nbformat_minor": 5
}
