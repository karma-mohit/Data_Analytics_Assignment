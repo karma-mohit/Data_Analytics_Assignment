{
 "cells": [
  {
   "cell_type": "code",
   "execution_count": 3,
   "id": "88424a5f",
   "metadata": {},
   "outputs": [
    {
     "name": "stdout",
     "output_type": "stream",
     "text": [
      "my name is mohit. I am a full stack developer. \n"
     ]
    }
   ],
   "source": [
    "#programme to print self intro\n",
    "print(\"my name is mohit. I am a full stack developer. \")"
   ]
  },
  {
   "cell_type": "code",
   "execution_count": 5,
   "id": "a03b013a",
   "metadata": {},
   "outputs": [
    {
     "name": "stdout",
     "output_type": "stream",
     "text": [
      "addition 30\n",
      "subtraction 10\n",
      "multiplication 200\n",
      "division 2.0\n",
      "exponential 10240000000000\n"
     ]
    }
   ],
   "source": [
    "#programme to simple arithmatic operation\n",
    "a = 20\n",
    "b = 10\n",
    "print(\"addition\",a+b)\n",
    "print(\"subtraction\",a-b)\n",
    "print(\"multiplication\",a*b)\n",
    "print(\"division\",a/b)\n",
    "print(\"exponential\",a**b)\n"
   ]
  },
  {
   "cell_type": "code",
   "execution_count": 7,
   "id": "2b8932b1",
   "metadata": {},
   "outputs": [
    {
     "name": "stdout",
     "output_type": "stream",
     "text": [
      "\n",
      "Number 1 after swapping: 10\n",
      "Number 2 after swapping: 20\n"
     ]
    }
   ],
   "source": [
    "# programme to swap two number\n",
    "x = 20\n",
    "y = 10\n",
    "(x,y) = (y,x)\n",
    "\n",
    "print(\"\\nNumber 1 after swapping:\", x)\n",
    "print(\"Number 2 after swapping:\", y)"
   ]
  },
  {
   "cell_type": "code",
   "execution_count": 8,
   "id": "56f2b926",
   "metadata": {},
   "outputs": [
    {
     "name": "stdout",
     "output_type": "stream",
     "text": [
      "\n",
      "Number 1 after swapping: 10\n",
      "Number 2 after swapping: 20\n"
     ]
    }
   ],
   "source": [
    "Number1 = 20\n",
    "Number2 = 10\n",
    "Number1 = Number1 + Number2\n",
    "Number2 = Number1 - Number2\n",
    "Number1 = Number1 - Number2\n",
    "\n",
    "print(\"\\nNumber 1 after swapping:\", Number1)\n",
    "print(\"Number 2 after swapping:\", Number2)"
   ]
  },
  {
   "cell_type": "code",
   "execution_count": 9,
   "id": "817ec32c",
   "metadata": {},
   "outputs": [
    {
     "name": "stdout",
     "output_type": "stream",
     "text": [
      "The value of x after swapping: 10\n",
      "The value of y after swapping: 5\n"
     ]
    }
   ],
   "source": [
    "x = 5\n",
    "y = 10\n",
    "\n",
    "z= x\n",
    "x = y\n",
    "y = z\n",
    "\n",
    "print('The value of x after swapping: {}'.format(x))\n",
    "print('The value of y after swapping: {}'.format(y))"
   ]
  },
  {
   "cell_type": "code",
   "execution_count": 10,
   "id": "0d939383",
   "metadata": {},
   "outputs": [
    {
     "name": "stdout",
     "output_type": "stream",
     "text": [
      "Simple Interest is :\n",
      "750.0\n"
     ]
    }
   ],
   "source": [
    "P= 5000 #Principal Amount  \n",
    "R=15 #Rate   \n",
    "T=1 #Time  \n",
    "SI  = (P*R*T)/100; # Simple Interest calculation  \n",
    "print(\"Simple Interest is :\");  \n",
    "print(SI);  #prints Simple Interest  "
   ]
  },
  {
   "cell_type": "code",
   "execution_count": 13,
   "id": "8925210b",
   "metadata": {},
   "outputs": [
    {
     "name": "stdout",
     "output_type": "stream",
     "text": [
      "The average of numbers = %0.2f 5.8\n"
     ]
    }
   ],
   "source": [
    "num1 = 2\n",
    "num2 = 3\n",
    "num3 = 6\n",
    "num4 = 8\n",
    "num5 = 10\n",
    "\n",
    "# calculate average\n",
    "avg = (num1 + num2 + num3 + num4 + num5) / 5\n",
    "\n",
    "# print average value\n",
    "print('The average of numbers = %0.2f' ,avg)"
   ]
  },
  {
   "cell_type": "code",
   "execution_count": 14,
   "id": "40c27ccc",
   "metadata": {},
   "outputs": [
    {
     "name": "stdout",
     "output_type": "stream",
     "text": [
      "Enter a: 10\n",
      "Enter b: 20\n",
      "Enter c: 10\n",
      "The solution are (-1+0j) and (-1+0j)\n"
     ]
    }
   ],
   "source": [
    "# import complex math module  \n",
    "import cmath  \n",
    "a = float(input('Enter a: '))  \n",
    "b = float(input('Enter b: '))  \n",
    "c = float(input('Enter c: '))  \n",
    "  \n",
    "# calculate the discriminant  \n",
    "d = (b**2) - (4*a*c)  \n",
    "  \n",
    "# find two solutions  \n",
    "sol1 = (-b-cmath.sqrt(d))/(2*a)  \n",
    "sol2 = (-b+cmath.sqrt(d))/(2*a)  \n",
    "print('The solution are {0} and {1}'.format(sol1,sol2))   "
   ]
  },
  {
   "cell_type": "code",
   "execution_count": null,
   "id": "df9725cf",
   "metadata": {},
   "outputs": [],
   "source": []
  }
 ],
 "metadata": {
  "kernelspec": {
   "display_name": "Python 3 (ipykernel)",
   "language": "python",
   "name": "python3"
  },
  "language_info": {
   "codemirror_mode": {
    "name": "ipython",
    "version": 3
   },
   "file_extension": ".py",
   "mimetype": "text/x-python",
   "name": "python",
   "nbconvert_exporter": "python",
   "pygments_lexer": "ipython3",
   "version": "3.9.13"
  }
 },
 "nbformat": 4,
 "nbformat_minor": 5
}
