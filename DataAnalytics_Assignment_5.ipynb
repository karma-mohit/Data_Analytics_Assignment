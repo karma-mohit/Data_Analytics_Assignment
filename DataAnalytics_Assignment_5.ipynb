{
 "cells": [
  {
   "cell_type": "code",
   "execution_count": 1,
   "id": "92b39510",
   "metadata": {},
   "outputs": [
    {
     "name": "stdout",
     "output_type": "stream",
     "text": [
      "enter a number10\n",
      "enter a number11\n",
      "b is greater\n"
     ]
    }
   ],
   "source": [
    "# To find greatest number between two number\n",
    "a = int(input(\"enter a number\"))\n",
    "b = int(input(\"enter a number\"))\n",
    "if a > b:\n",
    "    print(\"a is greater\")\n",
    "else:\n",
    "    print(\"b is greater\")"
   ]
  },
  {
   "cell_type": "code",
   "execution_count": 2,
   "id": "5de5989d",
   "metadata": {},
   "outputs": [
    {
     "name": "stdout",
     "output_type": "stream",
     "text": [
      "enter a number10\n",
      "enter a number11\n",
      "a is smaller\n"
     ]
    }
   ],
   "source": [
    "# To find the smallest number bw two numbers\n",
    "a = int(input(\"enter a number\"))\n",
    "b = int(input(\"enter a number\"))\n",
    "if a < b:\n",
    "    print(\"a is smaller\")\n",
    "else:\n",
    "    print(\"b is smaller\")"
   ]
  },
  {
   "cell_type": "code",
   "execution_count": 3,
   "id": "c7c687a0",
   "metadata": {},
   "outputs": [
    {
     "name": "stdout",
     "output_type": "stream",
     "text": [
      "Enter first number  : 10\n",
      "Enter second number : 20\n",
      "Enter third number  : 30\n",
      "30 is the largest of three numbers.\n"
     ]
    }
   ],
   "source": [
    "# find greatest of three number\n",
    "a = int(input('Enter first number  : '))\n",
    "b = int(input('Enter second number : '))\n",
    "c = int(input('Enter third number  : '))\n",
    "\n",
    "largest = 0\n",
    "\n",
    "if a > b and a > c :\n",
    "    largest = a\n",
    "elif b > c :\n",
    "    largest = b\n",
    "else :\n",
    "    largest = c\n",
    "\n",
    "print(largest, \"is the largest of three numbers.\")"
   ]
  },
  {
   "cell_type": "code",
   "execution_count": 4,
   "id": "e491f03f",
   "metadata": {},
   "outputs": [
    {
     "name": "stdout",
     "output_type": "stream",
     "text": [
      "5 is the smallest\n"
     ]
    }
   ],
   "source": [
    "# To find the smallest of three number\n",
    "a, b, c = 5, 7, 10\n",
    " \n",
    "if(a <= b and a <= c):\n",
    "    print(a, \"is the smallest\")\n",
    " \n",
    "elif(b <= a and b <= c):\n",
    "    print(b, \"is the smallest\")\n",
    "\n",
    "else:\n",
    "    print(c, \"is the smallest\")\n",
    " "
   ]
  },
  {
   "cell_type": "code",
   "execution_count": 1,
   "id": "db66e1ef",
   "metadata": {},
   "outputs": [
    {
     "name": "stdout",
     "output_type": "stream",
     "text": [
      "The solution are (-3+0j) and (-2+0j)\n"
     ]
    }
   ],
   "source": [
    "\n",
    "# import complex math module\n",
    "import cmath\n",
    "\n",
    "a = 1\n",
    "b = 5\n",
    "c = 6\n",
    "\n",
    "# calculate the discriminant\n",
    "d = (b**2) - (4*a*c)\n",
    "\n",
    "# find two solutions\n",
    "sol1 = (-b-cmath.sqrt(d))/(2*a)\n",
    "sol2 = (-b+cmath.sqrt(d))/(2*a)\n",
    "\n",
    "print('The solution are {0} and {1}'.format(sol1,sol2))\n"
   ]
  },
  {
   "cell_type": "code",
   "execution_count": null,
   "id": "031700ea",
   "metadata": {},
   "outputs": [],
   "source": [
    "# to take 1 to 7 and print week"
   ]
  },
  {
   "cell_type": "code",
   "execution_count": 3,
   "id": "a27b5121",
   "metadata": {},
   "outputs": [
    {
     "name": "stdout",
     "output_type": "stream",
     "text": [
      "enter a number1\n",
      "mon\n"
     ]
    }
   ],
   "source": [
    "i = int(input(\"enter a number\"))\n",
    "if i == 1:\n",
    "    print(\"mon\")\n",
    "elif i == 2:\n",
    "    print(\"tue\")\n",
    "elif i == 3:\n",
    "    print(\"wed\")\n",
    "elif i == 4:\n",
    "    print(\"thu\")\n",
    "elif i == 5:\n",
    "    print(\"fri\")\n",
    "elif i == 6:\n",
    "    print(\"sat\")\n",
    "else:\n",
    "    print(\"aun\")"
   ]
  },
  {
   "cell_type": "code",
   "execution_count": null,
   "id": "40e7d556",
   "metadata": {},
   "outputs": [],
   "source": []
  }
 ],
 "metadata": {
  "kernelspec": {
   "display_name": "Python 3 (ipykernel)",
   "language": "python",
   "name": "python3"
  },
  "language_info": {
   "codemirror_mode": {
    "name": "ipython",
    "version": 3
   },
   "file_extension": ".py",
   "mimetype": "text/x-python",
   "name": "python",
   "nbconvert_exporter": "python",
   "pygments_lexer": "ipython3",
   "version": "3.9.13"
  }
 },
 "nbformat": 4,
 "nbformat_minor": 5
}
